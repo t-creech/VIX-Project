{
 "cells": [
  {
   "cell_type": "code",
   "execution_count": null,
   "metadata": {},
   "outputs": [],
   "source": [
    "import pandas as pd\n",
    "import numpy as np\n",
    "import matplotlib.pyplot as plt\n",
    "from sklearn.preprocessing import MinMaxScaler\n",
    "from sklearn.model_selection import train_test_split\n",
    "from keras.models import Sequential\n",
    "from keras.layers import LSTM, Dense, Dropout\n",
    "import tensorflow as tf\n",
    "from sklearn.metrics import mean_squared_error, r2_score"
   ]
  },
  {
   "cell_type": "code",
   "execution_count": null,
   "metadata": {},
   "outputs": [],
   "source": [
    "# Load your dataset\n",
    "df = pd.read_csv('VIX_data.csv')  # Ensure this file is in the same directory or provide the full path\n",
    "df['Date'] = pd.to_datetime(df['Date'])\n",
    "df.set_index('Date', inplace=True)\n",
    "\n",
    "# Select the features you want to use for prediction\n",
    "selected_features = [\n",
    "    'Unemployment Rate',\n",
    "    'BBB Rate',\n",
    "    '10-Year Treasury Constant Maturity Rate',\n",
    "    'Six Month T Bill Rate',\n",
    "    'SP500 Index'\n",
    "]\n",
    "\n",
    "\n",
    "target = 'VIX'  # Assuming 'VIX' is your target variable in the dataset"
   ]
  },
  {
   "cell_type": "code",
   "execution_count": null,
   "metadata": {},
   "outputs": [],
   "source": [
    "# ONLY RAN ONCE TO GET THE FEATURES, TAKES ABOUT 45 MINUTES\n",
    "# THIS ALGORITHM GIVES ['Unemployment Rate', 'BBB Rate', '10-Year Treasury Constant Maturity Rate', 'Six Month T Bill Rate', 'SP500 Index']\n",
    "# Algorithm to determine feature combination that gives the best RMSE\n",
    "\n",
    "df['Next Month VIX'] = df['VIX'].shift(-1)\n",
    "\n",
    "all_feature_names = ['Unemployment Rate', 'CPI', 'Three Month T Bill Rate',\n",
    "                     'Six Month T Bill Rate', '10-Year Treasury Constant Maturity Rate',\n",
    "                     'Fed Rate', 'BBB Rate', 'SP500 Index', 'GDP',\n",
    "                     'Initial Claims', 'JPY/USD Spot Rate',\n",
    "                     'Total Nonfarm Employees', 'Spot Crude Oil Price']\n",
    "\n",
    "best_features = []\n",
    "best_rmse = float('inf')\n",
    "remaining_features = all_feature_names.copy()\n",
    "\n",
    "# Function to create sequences for LSTM\n",
    "def create_sequences(df, features, time_steps):\n",
    "    X, y = [], []\n",
    "    for i in range(time_steps, len(df)):\n",
    "        X.append(df[features].values[i-time_steps:i])\n",
    "        y.append(df['Next Month VIX'].values[i])\n",
    "    return np.array(X), np.array(y)\n",
    "\n",
    "while remaining_features:\n",
    "    for feature in remaining_features:\n",
    "        current_features = best_features + [feature]\n",
    "\n",
    "        # Create sequences for the current feature set\n",
    "        X_seq, y_seq = create_sequences(df, current_features, time_steps=20)\n",
    "\n",
    "        # Split data into training and testing sets\n",
    "        X_train, X_test, y_train, y_test = train_test_split(X_seq, y_seq, test_size=0.1, shuffle=False)\n",
    "\n",
    "        # Build and train LSTM model\n",
    "        model = Sequential()\n",
    "        model.add(LSTM(units=50, return_sequences=True, input_shape=(X_train.shape[1], X_train.shape[2])))\n",
    "        model.add(Dropout(0.2))\n",
    "        model.add(LSTM(units=50))\n",
    "        model.add(Dropout(0.2))\n",
    "        model.add(Dense(units=1))\n",
    "        model.compile(optimizer='adam', loss='mean_squared_error')\n",
    "\n",
    "        model.fit(X_train, y_train, epochs=50, batch_size=32, verbose=0)\n",
    "\n",
    "        # Predictions and RMSE calculation\n",
    "        y_pred = model.predict(X_test)\n",
    "        rmse = np.sqrt(mean_squared_error(y_test, y_pred.flatten()))\n",
    "\n",
    "        # Update best features if RMSE is improved\n",
    "        if rmse < best_rmse:\n",
    "            best_rmse = rmse\n",
    "            best_features = current_features\n",
    "\n",
    "    # Remove the tested feature from remaining_features\n",
    "    remaining_features.remove(feature)\n",
    "\n",
    "print(\"Best Features:\", set(best_features))"
   ]
  },
  {
   "cell_type": "code",
   "execution_count": null,
   "metadata": {},
   "outputs": [],
   "source": [
    "# Define the train and test dates\n",
    "train_end_date = '2023-10-01'\n",
    "test_start_date = '2022-10-01'\n",
    "test_end_date = '2024-09-01'\n",
    "\n",
    "# Create masks for training and testing\n",
    "train_mask = (df.index < train_end_date) & (df.index >= '2014-10-1')\n",
    "test_mask = (df.index >= test_start_date) & (df.index <= test_end_date)\n",
    "\n",
    "# Split the data based on the masks\n",
    "X_train = df.loc[train_mask, selected_features]\n",
    "y_train = df.loc[train_mask, [target]]\n",
    "X_test = df.loc[test_mask, selected_features]\n",
    "y_test = df.loc[test_mask, [target]]"
   ]
  },
  {
   "cell_type": "code",
   "execution_count": null,
   "metadata": {},
   "outputs": [],
   "source": [
    "# Initialize scalers\n",
    "scaler_X = MinMaxScaler()\n",
    "scaler_y = MinMaxScaler()\n",
    "\n",
    "# Fit the scaler on the training data only and transform it\n",
    "X_train_scaled = scaler_X.fit_transform(X_train)\n",
    "y_train_scaled = scaler_y.fit_transform(y_train)\n",
    "\n",
    "# Transform the test data using the scaler fitted on the training data\n",
    "X_test_scaled = scaler_X.transform(X_test)\n",
    "y_test_scaled = scaler_y.transform(y_test)\n",
    "\n",
    "# Define the function to create sequences\n",
    "def create_sequences(X, y, time_steps=12):\n",
    "    X_seq, y_seq = [], []\n",
    "    for i in range(len(X) - time_steps):\n",
    "        X_seq.append(X[i:i + time_steps])\n",
    "        y_seq.append(y[i + time_steps])\n",
    "    return np.array(X_seq), np.array(y_seq)\n",
    "\n",
    "# Create sequences for the training and testing datasets\n",
    "X_train_seq, y_train_seq = create_sequences(X_train_scaled, y_train_scaled)\n",
    "X_test_seq, y_test_seq = create_sequences(X_test_scaled, y_test_scaled)"
   ]
  },
  {
   "cell_type": "code",
   "execution_count": null,
   "metadata": {},
   "outputs": [],
   "source": [
    "model = tf.keras.Sequential([\n",
    "    tf.keras.layers.LSTM(50, activation='relu', input_shape=(X_train_seq.shape[1], X_train_seq.shape[2])),\n",
    "    tf.keras.layers.Dense(1)\n",
    "])\n",
    "\n",
    "model.compile(optimizer='adam', loss='mean_squared_error')"
   ]
  },
  {
   "cell_type": "code",
   "execution_count": null,
   "metadata": {},
   "outputs": [],
   "source": [
    "epochs = 100\n",
    "history = model.fit(\n",
    "    X_train_seq,\n",
    "    y_train_seq,\n",
    "    epochs=epochs,\n",
    "    batch_size=32,\n",
    "    validation_data=(X_test_seq, y_test_seq)\n",
    ")"
   ]
  },
  {
   "cell_type": "code",
   "execution_count": null,
   "metadata": {},
   "outputs": [],
   "source": [
    "# Make predictions\n",
    "y_pred_scaled = model.predict(X_test_seq)\n",
    "y_pred = scaler_y.inverse_transform(y_pred_scaled)  # Inverse scaling to get actual VIX values\n",
    "y_test_actual = scaler_y.inverse_transform(y_test_seq)  # Use the same scaler for the target"
   ]
  },
  {
   "cell_type": "code",
   "execution_count": null,
   "metadata": {},
   "outputs": [],
   "source": [
    "# Create a DataFrame for comparison\n",
    "results_df = pd.DataFrame({\n",
    "    'Date': df.index[test_mask][12:],  # Adjust the index to match the predictions\n",
    "    'Actual VIX': y_test_actual.flatten(),\n",
    "    'Predicted VIX': y_pred.flatten()\n",
    "})\n",
    "\n",
    "print(results_df)\n",
    "\n",
    "# Calculate RMSE and R^2 values\n",
    "rmse = np.sqrt(mean_squared_error(results_df['Actual VIX'], results_df['Predicted VIX']))\n",
    "r2 = r2_score(results_df['Actual VIX'], results_df['Predicted VIX'])\n",
    "\n",
    "print(f'RMSE: {rmse}')\n",
    "print(f'R^2: {r2}')"
   ]
  },
  {
   "cell_type": "code",
   "execution_count": null,
   "metadata": {},
   "outputs": [],
   "source": [
    "# Plotting the results\n",
    "plt.figure(figsize=(12, 6))\n",
    "plt.plot(results_df['Date'], results_df['Actual VIX'], label='Actual VIX', color='blue')\n",
    "plt.plot(results_df['Date'], results_df['Predicted VIX'], label='Predicted VIX', color='orange')\n",
    "plt.title('Actual vs Predicted VIX')\n",
    "plt.xlabel('Date')\n",
    "plt.ylabel('VIX Value')\n",
    "plt.legend()\n",
    "plt.show()"
   ]
  }
 ],
 "metadata": {
  "kernelspec": {
   "display_name": "test_env",
   "language": "python",
   "name": "python3"
  },
  "language_info": {
   "codemirror_mode": {
    "name": "ipython",
    "version": 3
   },
   "file_extension": ".py",
   "mimetype": "text/x-python",
   "name": "python",
   "nbconvert_exporter": "python",
   "pygments_lexer": "ipython3",
   "version": "3.12.7"
  }
 },
 "nbformat": 4,
 "nbformat_minor": 2
}
