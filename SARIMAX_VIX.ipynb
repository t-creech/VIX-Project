{
 "cells": [
  {
   "cell_type": "code",
   "execution_count": null,
   "metadata": {},
   "outputs": [],
   "source": [
    "import sys\n",
    "print(sys.executable)"
   ]
  },
  {
   "cell_type": "code",
   "execution_count": null,
   "metadata": {},
   "outputs": [],
   "source": [
    "import numpy as np\n",
    "import pandas as pd\n",
    "import matplotlib.pyplot as plt\n",
    "import seaborn as sns\n",
    "import math"
   ]
  },
  {
   "cell_type": "code",
   "execution_count": null,
   "metadata": {},
   "outputs": [],
   "source": [
    "# from pygam import GAM, s"
   ]
  },
  {
   "cell_type": "code",
   "execution_count": null,
   "metadata": {},
   "outputs": [],
   "source": [
    "from sklearn.preprocessing import StandardScaler\n",
    "from sklearn.linear_model import Lasso\n",
    "from sklearn.feature_selection import SelectFromModel\n",
    "from sklearn.model_selection import TimeSeriesSplit"
   ]
  },
  {
   "cell_type": "code",
   "execution_count": null,
   "metadata": {},
   "outputs": [],
   "source": [
    "from statsmodels.tsa.seasonal import seasonal_decompose\n",
    "import statsmodels.api as sm\n",
    "from statsmodels.tsa.stattools import acf, pacf"
   ]
  },
  {
   "cell_type": "code",
   "execution_count": null,
   "metadata": {},
   "outputs": [],
   "source": [
    "from pmdarima import auto_arima\n",
    "from statsmodels.tsa.arima.model import ARIMA\n",
    "from statsmodels.tsa.statespace.sarimax import SARIMAX"
   ]
  },
  {
   "cell_type": "code",
   "execution_count": null,
   "metadata": {},
   "outputs": [],
   "source": [
    "from arch.unitroot import PhillipsPerron\n",
    "from statsmodels.tsa.stattools import adfuller\n",
    "from statsmodels.tsa.stattools import kpss\n",
    "from sklearn.metrics import mean_squared_error, r2_score, mean_absolute_percentage_error"
   ]
  },
  {
   "cell_type": "code",
   "execution_count": null,
   "metadata": {},
   "outputs": [],
   "source": [
    "import warnings\n",
    "from statsmodels.tools.sm_exceptions import InterpolationWarning"
   ]
  },
  {
   "cell_type": "code",
   "execution_count": null,
   "metadata": {},
   "outputs": [],
   "source": [
    "import scipy\n",
    "import sklearn"
   ]
  },
  {
   "cell_type": "code",
   "execution_count": null,
   "metadata": {},
   "outputs": [],
   "source": [
    "print(scipy.__version__)\n",
    "print(sklearn.__version__)"
   ]
  },
  {
   "cell_type": "markdown",
   "metadata": {},
   "source": [
    "Data Importing & Cleaning"
   ]
  },
  {
   "cell_type": "code",
   "execution_count": null,
   "metadata": {},
   "outputs": [],
   "source": [
    "data = pd.read_csv('VIX_data.csv')"
   ]
  },
  {
   "cell_type": "code",
   "execution_count": null,
   "metadata": {},
   "outputs": [],
   "source": [
    "data.head()"
   ]
  },
  {
   "cell_type": "code",
   "execution_count": null,
   "metadata": {},
   "outputs": [],
   "source": [
    "data.shape"
   ]
  },
  {
   "cell_type": "code",
   "execution_count": null,
   "metadata": {},
   "outputs": [],
   "source": [
    "data.isnull().sum()"
   ]
  },
  {
   "cell_type": "code",
   "execution_count": null,
   "metadata": {},
   "outputs": [],
   "source": [
    "(data== '').sum()"
   ]
  },
  {
   "cell_type": "code",
   "execution_count": null,
   "metadata": {},
   "outputs": [],
   "source": [
    "total_check = data.isnull().sum() + (data== '').sum()"
   ]
  },
  {
   "cell_type": "code",
   "execution_count": null,
   "metadata": {},
   "outputs": [],
   "source": [
    "has_missing_data = total_check.sum() >0\n",
    "print(has_missing_data)"
   ]
  },
  {
   "cell_type": "code",
   "execution_count": null,
   "metadata": {},
   "outputs": [],
   "source": [
    "data.index = pd.to_datetime(data['Date'])"
   ]
  },
  {
   "cell_type": "code",
   "execution_count": null,
   "metadata": {},
   "outputs": [],
   "source": [
    "numeric_columns = data.select_dtypes(include=[np.number]).columns\n",
    "column_means = data[numeric_columns].mean()\n",
    "\n",
    "data_filled = data.copy()\n",
    "data_filled[numeric_columns].fillna(column_means)"
   ]
  },
  {
   "cell_type": "code",
   "execution_count": null,
   "metadata": {},
   "outputs": [],
   "source": [
    "data_filled.head()"
   ]
  },
  {
   "cell_type": "code",
   "execution_count": null,
   "metadata": {},
   "outputs": [],
   "source": [
    "data_filled.shape"
   ]
  },
  {
   "cell_type": "code",
   "execution_count": null,
   "metadata": {},
   "outputs": [],
   "source": [
    "VIX_data = data_filled['VIX']"
   ]
  },
  {
   "cell_type": "code",
   "execution_count": null,
   "metadata": {},
   "outputs": [],
   "source": [
    "VIX_data.describe()"
   ]
  },
  {
   "cell_type": "code",
   "execution_count": null,
   "metadata": {},
   "outputs": [],
   "source": [
    "VIX_data.head()"
   ]
  },
  {
   "cell_type": "code",
   "execution_count": null,
   "metadata": {},
   "outputs": [],
   "source": [
    "data_interim = data_filled.reset_index(drop=True)\n",
    "data_interim.set_index('Date', inplace=True)\n",
    "\n",
    "data_interim.index = pd.to_datetime(data_interim.index)"
   ]
  },
  {
   "cell_type": "code",
   "execution_count": null,
   "metadata": {},
   "outputs": [],
   "source": [
    "data_interim.head()"
   ]
  },
  {
   "cell_type": "code",
   "execution_count": null,
   "metadata": {},
   "outputs": [],
   "source": [
    "t = data_interim.isnull().sum()\n",
    "t.isnull().sum()"
   ]
  },
  {
   "cell_type": "code",
   "execution_count": null,
   "metadata": {},
   "outputs": [],
   "source": [
    "Features = data_interim.drop('VIX', axis=1)"
   ]
  },
  {
   "cell_type": "code",
   "execution_count": null,
   "metadata": {},
   "outputs": [],
   "source": [
    "Features.head()"
   ]
  },
  {
   "cell_type": "code",
   "execution_count": null,
   "metadata": {},
   "outputs": [],
   "source": [
    "Features.shape"
   ]
  },
  {
   "cell_type": "code",
   "execution_count": null,
   "metadata": {},
   "outputs": [],
   "source": [
    "Features.columns"
   ]
  },
  {
   "cell_type": "code",
   "execution_count": null,
   "metadata": {},
   "outputs": [],
   "source": [
    "Features_clean = Features[['Unemployment Rate', 'CPI', 'Three Month T Bill Rate', 'Six Month T Bill Rate', \n",
    "                           '10-Year Treasury Constant Maturity Rate', 'Fed Rate', 'BBB Rate', 'SP500 Index', \n",
    "                           'SP500 Volume', 'NASDAQ Adj Close','NASDAQ Volume','DJI Adj Close','DJI Volume', \n",
    "                           'RUSSELL2000 Adj Close','RUSSELL2000 Volume','FTSE Adj Close','FTSE Volume','NIKKEI Adj Close',\n",
    "                           'NIKKEI Volume','GDP', 'Initial Claims', 'JPY/USD Spot Rate', 'Spot Crude Oil Price',\n",
    "                           'GOLD Adj Close','GOLD Volume', 'USD INDEX Adj Close']]"
   ]
  },
  {
   "cell_type": "code",
   "execution_count": null,
   "metadata": {},
   "outputs": [],
   "source": [
    "Features_clean.head()"
   ]
  },
  {
   "cell_type": "code",
   "execution_count": null,
   "metadata": {},
   "outputs": [],
   "source": [
    "Features_clean.shape"
   ]
  },
  {
   "cell_type": "code",
   "execution_count": null,
   "metadata": {},
   "outputs": [],
   "source": [
    "Features_clean.isnull().sum()"
   ]
  },
  {
   "cell_type": "code",
   "execution_count": null,
   "metadata": {},
   "outputs": [],
   "source": [
    "if isinstance(VIX_data, pd.Series):\n",
    "    VIX = VIX_data.to_frame(name='VIX')\n"
   ]
  },
  {
   "cell_type": "code",
   "execution_count": null,
   "metadata": {},
   "outputs": [],
   "source": [
    "isinstance(Features_clean, pd.DataFrame)"
   ]
  },
  {
   "cell_type": "code",
   "execution_count": null,
   "metadata": {},
   "outputs": [],
   "source": [
    "VIX.head()"
   ]
  },
  {
   "cell_type": "code",
   "execution_count": null,
   "metadata": {},
   "outputs": [],
   "source": [
    "data_clean = pd.concat([VIX, Features_clean], axis=1, join='inner')"
   ]
  },
  {
   "cell_type": "code",
   "execution_count": null,
   "metadata": {},
   "outputs": [],
   "source": [
    "data_clean.shape"
   ]
  },
  {
   "cell_type": "code",
   "execution_count": null,
   "metadata": {},
   "outputs": [],
   "source": [
    "data_clean.head()"
   ]
  },
  {
   "cell_type": "code",
   "execution_count": null,
   "metadata": {},
   "outputs": [],
   "source": [
    "data_clean.isnull().sum()"
   ]
  },
  {
   "cell_type": "code",
   "execution_count": null,
   "metadata": {},
   "outputs": [],
   "source": [
    "# plt.style.use('seaborn')\n",
    "\n",
    "n_cols = 3\n",
    "n_rows = (len(data_clean.columns)-1) // n_cols + 1\n",
    "\n",
    "fig, axes = plt.subplots(n_rows, n_cols, figsize=(15, 5 * n_rows))\n",
    "# fig.suptitle('Histograms of all Features', fontsize=16)\n",
    "\n",
    "axes = axes.flatten()\n",
    "\n",
    "for i, column in enumerate(data_clean.columns):\n",
    "    sns.histplot(data=data_clean, x=column, kde=True, bins='auto', ax=axes[i])\n",
    "    axes[i].set_title(column)\n",
    "    axes[i].set_xlabel('')\n",
    "\n",
    "for j in range(i + 1, len(axes)):\n",
    "    fig.delaxes(axes[j])\n",
    "\n",
    "plt.tight_layout()\n",
    "plt.show()"
   ]
  },
  {
   "cell_type": "code",
   "execution_count": null,
   "metadata": {},
   "outputs": [],
   "source": [
    "n_cols = 3\n",
    "n_rows = (len(data_clean.columns)-1) // n_cols + 1\n",
    "\n",
    "fig, axes = plt.subplots(n_rows, n_cols, figsize=(15, 5 * n_rows))\n",
    "# fig.suptitle('All Features', fontsize=16)\n",
    "\n",
    "axes = axes.flatten()\n",
    "\n",
    "for i, column in enumerate(data_clean.columns):\n",
    "    sns.lineplot(data=data_clean, x=data_clean.index, y=column, ax=axes[i])\n",
    "    axes[i].set_title(column)\n",
    "    axes[i].set_xlabel('')\n",
    "\n",
    "for j in range(i + 1, len(axes)):\n",
    "    fig.delaxes(axes[j])\n",
    "\n",
    "plt.tight_layout()\n",
    "plt.show()"
   ]
  },
  {
   "cell_type": "code",
   "execution_count": null,
   "metadata": {},
   "outputs": [],
   "source": [
    "#Rolling statistics\n",
    "\n",
    "def calculate_rolling_stats(df, window):\n",
    "    rolling_mean = df.rolling(window=window).mean()\n",
    "    rolling_std = df.rolling(window=window).std()\n",
    "    return rolling_mean, rolling_std"
   ]
  },
  {
   "cell_type": "code",
   "execution_count": null,
   "metadata": {},
   "outputs": [],
   "source": [
    "\n",
    "window_size = 6\n",
    "\n",
    "rolling_mean, rolling_std = calculate_rolling_stats(data_clean, window=window_size)"
   ]
  },
  {
   "cell_type": "code",
   "execution_count": null,
   "metadata": {},
   "outputs": [],
   "source": [
    "\n",
    "n_cols = 3\n",
    "n_rows = (len(data_clean.columns)-1) // n_cols + 1\n",
    "\n",
    "fig, axes = plt.subplots(n_rows, n_cols, figsize=(15, 5 * n_rows))\n",
    "\n",
    "axes = axes.flatten()\n",
    "\n",
    "for i, column in enumerate(data_clean.columns):\n",
    "    sns.lineplot(data=data_clean, x=data_clean.index, y=column, label='Original', ax=axes[i])\n",
    "    sns.lineplot(data=rolling_mean, x=rolling_mean.index, y=rolling_mean[column], color='black', label='Rolling Mean', ax=axes[i])\n",
    "    sns.lineplot(data=rolling_std, x=rolling_std.index, y=rolling_std[column], color='orange', label='Rolling Std', ax=axes[i])\n",
    "    axes[i].legend(loc='best')\n",
    "    axes[i].set_title(column)\n",
    "    axes[i].set_xlabel('')\n",
    "\n",
    "for j in range(i + 1, len(axes)):\n",
    "    fig.delaxes(axes[j])\n",
    "\n",
    "plt.tight_layout()\n",
    "plt.show()"
   ]
  },
  {
   "cell_type": "code",
   "execution_count": null,
   "metadata": {},
   "outputs": [],
   "source": [
    "#Decompose\n",
    "\n",
    "def decompose_and_plot(series, column, period):\n",
    "    decomposition = seasonal_decompose(series, model='additive', period=period)\n",
    "\n",
    "    fig = plt.figure(figsize=(15, 10))\n",
    "    gs = fig.add_gridspec(2, 3)\n",
    "    \n",
    "    fig.suptitle(column, fontsize=20)\n",
    "    \n",
    "\n",
    "    #Plot original data\n",
    "    ax_original = fig.add_subplot(gs[0, :])\n",
    "    ax_original.plot(series)\n",
    "    ax_original.set_title('Original')\n",
    "    ax_original.set_xlabel('')\n",
    "\n",
    "    #Plot trend\n",
    "    ax_trend = fig.add_subplot(gs[1, 0])\n",
    "    ax_trend.plot(decomposition.trend)\n",
    "    ax_trend.set_title('Trend')\n",
    "\n",
    "    #Plot seasonal\n",
    "    ax_seasonal = fig.add_subplot(gs[1, 1])\n",
    "    ax_seasonal.plot(decomposition.seasonal)\n",
    "    ax_seasonal.set_title('Seasonal')\n",
    "\n",
    "    #Plot residual\n",
    "    ax_residual = fig.add_subplot(gs[1, 2])\n",
    "    ax_residual.plot(decomposition.resid)\n",
    "    ax_residual.set_title('Residual')\n",
    "\n",
    "    plt.tight_layout()\n",
    "    plt.show()\n",
    "\n"
   ]
  },
  {
   "cell_type": "code",
   "execution_count": null,
   "metadata": {},
   "outputs": [],
   "source": [
    "period = 12\n",
    "\n",
    "for column in data_clean.columns:\n",
    "    decompose_and_plot(data_clean[column], column, period)"
   ]
  },
  {
   "cell_type": "code",
   "execution_count": null,
   "metadata": {},
   "outputs": [],
   "source": [
    "# # #Generalized Additive Models \n",
    "# X = Features_clean['BBB Rate'].values.reshape(-1, 1)\n",
    "# y = VIX\n",
    "\n",
    "# gam = GAM(s(0, n_splines=10))\n",
    "# gam.fit(X, y)\n",
    "\n",
    "# XX = np.linspace(X.min(), X.max(), 500).reshape(-1, 1)\n",
    "# gam_predictions = gam.predict(XX)\n",
    "\n",
    "# plt.figure(figsize=(10,6))\n",
    "# plt.scatter(X, y, alpha=0.1)\n",
    "# plt.plot(XX, gam_predictions, color='r', linewidth=2)\n",
    "# plt.title('GAM: VIX Vs BBB Rate')\n",
    "# plt.xlabel('BBB Rate')\n",
    "# plt.ylabel('VIX')\n",
    "# plt.show()\n",
    "\n",
    "# print(gam.summary())\n",
    "\n"
   ]
  },
  {
   "cell_type": "code",
   "execution_count": null,
   "metadata": {},
   "outputs": [],
   "source": [
    "#Feature Selection\n",
    "X = data_clean.iloc[:, 1:] #Features\n",
    "y = data_clean.iloc[:, 0] #VIX\n",
    "\n",
    "tscv = TimeSeriesSplit(n_splits=5)\n",
    "\n",
    "mse_scores = []\n",
    "selected_features_list = []\n",
    "\n",
    "for train_index, test_index in tscv.split(X):\n",
    "    X_train, X_test = X.iloc[train_index], X.iloc[test_index]\n",
    "    y_train, y_test = y.iloc[train_index], y.iloc[test_index]\n",
    "\n",
    "scaler = StandardScaler()\n",
    "X_train_scaled = scaler.fit_transform(X_train)\n",
    "X_test_scaled = scaler.transform(X_test)\n",
    "\n",
    "lasso = Lasso(alpha=0.1, random_state=42)\n",
    "lasso.fit(X_train_scaled, y_train)\n",
    "\n",
    "selector = SelectFromModel(lasso, prefit=True)\n",
    "\n",
    "selected_feature_indices = selector.get_support(indices=True)\n",
    "\n",
    "selected_features =  X.columns[selected_feature_indices]\n",
    "selected_features_list.append(selected_features)\n",
    "\n",
    "#Transform data to use only selected features\n",
    "X_train_selected = selector.transform(X_train_scaled)\n",
    "X_test_selected = selector.transform(X_test_scaled)\n",
    "\n",
    "#Fit new Lasso model on selected features\n",
    "lasso_selected = Lasso(alpha=0.1, random_state=42)\n",
    "lasso_selected.fit(X_train_selected, y_train)\n",
    "\n",
    "y_pred = lasso_selected.predict(X_test_selected)\n",
    "mse = mean_squared_error(y_test, y_pred)\n",
    "mse_scores.append(mse)\n",
    "\n",
    "#Print average MSE\n",
    "print(f'Average MSE across folds: {np.mean(mse_scores)}')\n",
    "\n",
    "#Count faeture occurences across all folds\n",
    "feature_counts = {}\n",
    "for features in selected_features_list:\n",
    "    for feature in features:\n",
    "        if feature in feature_counts:\n",
    "            feature_counts[feature] += 1\n",
    "        else:\n",
    "            feature_counts[feature] = 1\n",
    "\n",
    "#Print faetures selected in all folds\n",
    "print('\\nFeatures selected in all folds:')\n",
    "for feature, count in feature_counts.items():\n",
    "    if count == len(selected_features_list):\n",
    "        print(feature)\n",
    "\n",
    "#Print features selected in majority of folds\n",
    "print('\\nFeatures selected in majority of folds:')\n",
    "for feature, count in feature_counts.items():\n",
    "    if count > len(selected_features_list) / 2:\n",
    "        print(f'{feature}: {count} / {len(selected_features_list)} folds')\n"
   ]
  },
  {
   "cell_type": "code",
   "execution_count": null,
   "metadata": {},
   "outputs": [],
   "source": []
  },
  {
   "cell_type": "code",
   "execution_count": null,
   "metadata": {},
   "outputs": [],
   "source": [
    "#Scaling the data for the model\n",
    "scaler = StandardScaler()\n",
    "\n",
    "scaled_df = pd.DataFrame(scaler.fit_transform(data_clean), columns=data_clean.columns)"
   ]
  },
  {
   "cell_type": "code",
   "execution_count": null,
   "metadata": {},
   "outputs": [],
   "source": [
    "scaled_df.describe()"
   ]
  },
  {
   "cell_type": "code",
   "execution_count": null,
   "metadata": {},
   "outputs": [],
   "source": [
    "#ACF and PACF of original VIX data\n",
    "fig, (ax1, ax2) = plt.subplots(2, 1, figsize=(12,8))\n",
    "\n",
    "sm.graphics.tsa.plot_acf(data_clean['VIX'], lags=50, ax=ax1)\n",
    "ax1.set_title('Autocorrelation Function')\n",
    "\n",
    "sm.graphics.tsa.plot_pacf(data_clean['VIX'], lags=50, ax=ax2)\n",
    "ax2.set_title('Partial Autocorrelation Function')\n",
    "\n",
    "plt.tight_layout()\n",
    "plt.show()"
   ]
  },
  {
   "cell_type": "code",
   "execution_count": null,
   "metadata": {},
   "outputs": [],
   "source": []
  },
  {
   "cell_type": "code",
   "execution_count": null,
   "metadata": {},
   "outputs": [],
   "source": [
    "#Difference the Data\n",
    "\n",
    "differenced_data = data_clean.diff() #First order differencing\n",
    "\n",
    "differenced_data.iloc[0] = 0 #First entry of differenced data is typically NaN because there is no previous value to subtract from the first observation\n",
    "\n",
    "num_columns = len(differenced_data.columns)\n",
    "\n",
    "nrows = (num_columns + 1) // 2\n",
    "\n",
    "\n",
    "plt.figure(figsize=(15, 5 * nrows))\n",
    "\n",
    "for i, column in enumerate(differenced_data.columns):\n",
    "    plt.subplot(nrows, 2, i + 1)\n",
    "    plt.plot(differenced_data.index, differenced_data[column])\n",
    "    plt.title(f'Differenced {column}')\n",
    "    plt.xlabel('Date')\n",
    "    plt.ylabel('Difference')\n",
    "    plt.grid(True)\n",
    "    plt.xticks(rotation=45)\n",
    "\n",
    "plt.tight_layout()\n",
    "plt.show()\n",
    "\n"
   ]
  },
  {
   "cell_type": "code",
   "execution_count": null,
   "metadata": {},
   "outputs": [],
   "source": [
    "#Check for NaN or infinite values\n",
    "\n",
    "missing_values = differenced_data.isnull().sum() + (differenced_data == float('inf')).sum() + (differenced_data == float('-inf')).sum()\n",
    "print(f'Number of missing or ifinite values: {missing_values}')"
   ]
  },
  {
   "cell_type": "code",
   "execution_count": null,
   "metadata": {},
   "outputs": [],
   "source": [
    "#ADF / Augmented Dickey Fuller Test\n",
    "def adfuller_test(series):\n",
    "    adf_result = adfuller(series, autolag='AIC')\n",
    "    return{\n",
    "        'ADF Statistic': adf_result[0], \n",
    "        'p-value': adf_result[1],\n",
    "        'Lags used': adf_result[2],\n",
    "        'Observations used': adf_result[3],\n",
    "        'Critical Values': adf_result[4]\n",
    "        }"
   ]
  },
  {
   "cell_type": "code",
   "execution_count": null,
   "metadata": {},
   "outputs": [],
   "source": [
    "adf_results = differenced_data.apply(adfuller_test, axis=0)"
   ]
  },
  {
   "cell_type": "code",
   "execution_count": null,
   "metadata": {},
   "outputs": [],
   "source": [
    "adf_results.describe()"
   ]
  },
  {
   "cell_type": "code",
   "execution_count": null,
   "metadata": {},
   "outputs": [],
   "source": [
    "print(adf_results)"
   ]
  },
  {
   "cell_type": "code",
   "execution_count": null,
   "metadata": {},
   "outputs": [],
   "source": [
    "adf_results['VIX']"
   ]
  },
  {
   "cell_type": "code",
   "execution_count": null,
   "metadata": {},
   "outputs": [],
   "source": [
    "#KPSS / Kwiatkowski-Phillips-Schmidt-Shin Test\n",
    "def kpss_test(series, **kw):\n",
    "    with warnings.catch_warnings():\n",
    "        warnings.filterwarnings(\"ignore\", category=InterpolationWarning)\n",
    "    \n",
    "        statistic, p_value, n_lags, critical_values = kpss(series, **kw)\n",
    "    return{\n",
    "        'KPSS Statistic': statistic,\n",
    "        'p_value': p_value,\n",
    "        'num lags': n_lags,\n",
    "        'Critical Values': critical_values\n",
    "    }"
   ]
  },
  {
   "cell_type": "code",
   "execution_count": null,
   "metadata": {},
   "outputs": [],
   "source": [
    "kpss_results = differenced_data.apply(kpss_test, axis=0)"
   ]
  },
  {
   "cell_type": "code",
   "execution_count": null,
   "metadata": {},
   "outputs": [],
   "source": [
    "print(kpss_results.iloc[:1])"
   ]
  },
  {
   "cell_type": "code",
   "execution_count": null,
   "metadata": {},
   "outputs": [],
   "source": [
    "#Philips-Perron Test\n",
    "pp_test = differenced_data.apply(PhillipsPerron)"
   ]
  },
  {
   "cell_type": "code",
   "execution_count": null,
   "metadata": {},
   "outputs": [],
   "source": [
    "pp_test[2]"
   ]
  },
  {
   "cell_type": "code",
   "execution_count": null,
   "metadata": {},
   "outputs": [],
   "source": []
  },
  {
   "cell_type": "code",
   "execution_count": null,
   "metadata": {},
   "outputs": [],
   "source": [
    "#ACF and PACF\n",
    "fig, (ax1, ax2) = plt.subplots(2, 1, figsize=(12,8))\n",
    "\n",
    "sm.graphics.tsa.plot_acf(differenced_data['VIX'], lags=50, ax=ax1)\n",
    "ax1.set_title('Autocorrelation Function')\n",
    "\n",
    "sm.graphics.tsa.plot_pacf(differenced_data['VIX'], lags=50, ax=ax2)\n",
    "ax2.set_title('Partial Autocorrelation Function')\n",
    "\n",
    "plt.tight_layout()\n",
    "plt.show()\n"
   ]
  },
  {
   "cell_type": "code",
   "execution_count": null,
   "metadata": {},
   "outputs": [],
   "source": [
    "log_data = np.log1p(data_clean)"
   ]
  },
  {
   "cell_type": "code",
   "execution_count": null,
   "metadata": {},
   "outputs": [],
   "source": [
    "#Determine p, d, q values\n",
    "def determine_p_d_q_values(timeseries, lags):\n",
    "    #Calculate autocorrelation and partial autocorrelation values\n",
    "    acf_values = acf(timeseries, nlags=lags)\n",
    "    pacf_values = pacf(timeseries, nlags=lags)\n",
    "\n",
    "    #Determine value of p\n",
    "    p = 0\n",
    "    for i in range(1, len(acf_values)):\n",
    "        if abs(acf_values[i]) > 1.96 / len(timeseries) ** 0.5: #threshold for statistical significance of autocorrelation at 95% confidence level\n",
    "                                                                #Crtical value for 95% confidence level in standard normal distribution = 1.96 \n",
    "                                                                #Standard error of autocorrelation = 1.95*(1/sqrt(N)) for large samples\n",
    "            p = i\n",
    "            break\n",
    "\n",
    "    #Determine value of d\n",
    "    d = 0\n",
    "    p_value_adf = adfuller(timeseries)[1]\n",
    "    while p_value_adf > 0.05:\n",
    "        timeseries = np.diff(timeseries)\n",
    "        d += 1\n",
    "        p_value_adf = adfuller(timeseries)[1]\n",
    "\n",
    "    #Determine value of q\n",
    "    q = 0\n",
    "    for i in range(1, len(pacf_values)):\n",
    "        if abs(pacf_values[i]) > 1.96 / len(timeseries) ** 0.5:\n",
    "            q = i\n",
    "            break\n",
    "\n",
    "    return p, d, q"
   ]
  },
  {
   "cell_type": "code",
   "execution_count": null,
   "metadata": {},
   "outputs": [],
   "source": [
    "lags = 50\n",
    "timeseries = log_data.iloc[:, 0]\n",
    "exogenous_variables = log_data.iloc[:, 1:]"
   ]
  },
  {
   "cell_type": "code",
   "execution_count": null,
   "metadata": {},
   "outputs": [],
   "source": [
    "#Manual determination of p, d, q\n",
    "p, d, q = determine_p_d_q_values(timeseries, lags)\n",
    "print(f'p: {p}, d: {d}, q: {q}')"
   ]
  },
  {
   "cell_type": "code",
   "execution_count": null,
   "metadata": {},
   "outputs": [],
   "source": [
    "#Determine p,d,q using auto_arima\n",
    "auto_arima_model = auto_arima(timeseries, \n",
    "                              exogenous=exogenous_variables,\n",
    "                              start_p=1, start_q=1, \n",
    "                              test='adf',\n",
    "                              max_p=5, max_q=5,\n",
    "                              m=12, #VIX data = monthly data with yearly seasonality\n",
    "                              d=None,\n",
    "                              seasonal=True,\n",
    "                              start_P=1, start_Q=1,\n",
    "                              D=None,\n",
    "                              trace=True,\n",
    "                              error_action='ignore',\n",
    "                              suppress_warnings=True,\n",
    "                              stepwise=True\n",
    "                              )\n",
    "\n",
    "print(auto_arima_model.order)\n",
    "print(auto_arima_model.seasonal_order)"
   ]
  },
  {
   "cell_type": "code",
   "execution_count": null,
   "metadata": {},
   "outputs": [],
   "source": [
    "p, d, q =auto_arima_model.order\n",
    "P, D, Q, m = auto_arima_model.seasonal_order"
   ]
  },
  {
   "cell_type": "code",
   "execution_count": null,
   "metadata": {},
   "outputs": [],
   "source": [
    "print(f'p: {p}, d: {d}, q: {q}')\n",
    "print(f'\\nP: {P}, D: {D}, Q: {Q}')"
   ]
  },
  {
   "cell_type": "code",
   "execution_count": null,
   "metadata": {},
   "outputs": [],
   "source": []
  },
  {
   "cell_type": "code",
   "execution_count": null,
   "metadata": {},
   "outputs": [],
   "source": [
    "#Train and Test Data\n",
    "train_size=int(len(log_data)*0.8)\n",
    "train_data = log_data[:train_size]\n",
    "test_data = log_data[train_size:]\n",
    "\n",
    "train_target = train_data.iloc[:, 0] #VIX\n",
    "test_target = test_data.iloc[:, 0]\n",
    "train_exog = train_data.iloc[:, 1:]\n",
    "test_exog = test_data.iloc[:, 1:]"
   ]
  },
  {
   "cell_type": "code",
   "execution_count": null,
   "metadata": {},
   "outputs": [],
   "source": []
  },
  {
   "cell_type": "code",
   "execution_count": null,
   "metadata": {},
   "outputs": [],
   "source": [
    "#ARIMA model\n",
    "arima_model = ARIMA(train_target, order=(p, d, q))\n",
    "arima_results = arima_model.fit()\n",
    "\n",
    "log_arima_forecast = arima_results.forecast(steps=len(test_target))\n",
    "\n",
    "arima_forecast = np.exp(log_arima_forecast) #Back-transform to ensure non-negativity\n",
    "arima_forecast = np.maximum(arima_forecast, 0)"
   ]
  },
  {
   "cell_type": "code",
   "execution_count": null,
   "metadata": {},
   "outputs": [],
   "source": [
    "arima_results.summary()"
   ]
  },
  {
   "cell_type": "code",
   "execution_count": null,
   "metadata": {},
   "outputs": [],
   "source": [
    "arima_results.plot_diagnostics(figsize=(16,8))\n",
    "plt.show()"
   ]
  },
  {
   "cell_type": "code",
   "execution_count": null,
   "metadata": {},
   "outputs": [],
   "source": []
  },
  {
   "cell_type": "code",
   "execution_count": null,
   "metadata": {},
   "outputs": [],
   "source": [
    "#ARIMAX model\n",
    "arimax_model = SARIMAX(train_target, exog=train_exog, order=(p, d, q))\n",
    "arimax_results = arimax_model.fit()\n",
    "\n",
    "log_arimax_forecast = arimax_results.forecast(steps=len(test_target), exog=test_exog)\n",
    "\n",
    "arimax_forecast = np.exp(log_arimax_forecast)\n",
    "arimax_forecast = np.maximum(arimax_forecast, 0)"
   ]
  },
  {
   "cell_type": "code",
   "execution_count": null,
   "metadata": {},
   "outputs": [],
   "source": [
    "arimax_results.summary()"
   ]
  },
  {
   "cell_type": "code",
   "execution_count": null,
   "metadata": {},
   "outputs": [],
   "source": [
    "arimax_results.plot_diagnostics(figsize=(16,8))\n",
    "plt.show()"
   ]
  },
  {
   "cell_type": "code",
   "execution_count": null,
   "metadata": {},
   "outputs": [],
   "source": []
  },
  {
   "cell_type": "code",
   "execution_count": null,
   "metadata": {},
   "outputs": [],
   "source": [
    "#SARIMAX model\n",
    "P=1\n",
    "D=1\n",
    "Q=1 #Can change later\n",
    "sarimax_model = SARIMAX(train_target,\n",
    "                        exog=train_exog,\n",
    "                        order=(p, d, q),\n",
    "                        seasonal_order=(P, D, Q, m)\n",
    "                        )\n",
    "\n",
    "sarimax_results = sarimax_model.fit()\n",
    "\n",
    "log_sarimax_forecast = sarimax_results.forecast(steps=len(test_target), exog=test_exog)\n",
    "\n",
    "sarimax_forecast = np.exp(log_sarimax_forecast)\n",
    "sarimax_forecast = np.maximum(sarimax_forecast, 0)"
   ]
  },
  {
   "cell_type": "code",
   "execution_count": null,
   "metadata": {},
   "outputs": [],
   "source": [
    "sarimax_results.summary()"
   ]
  },
  {
   "cell_type": "code",
   "execution_count": null,
   "metadata": {},
   "outputs": [],
   "source": [
    "sarimax_results.plot_diagnostics(figsize=(16,8))\n",
    "plt.show()"
   ]
  },
  {
   "cell_type": "code",
   "execution_count": null,
   "metadata": {},
   "outputs": [],
   "source": []
  },
  {
   "cell_type": "code",
   "execution_count": null,
   "metadata": {},
   "outputs": [],
   "source": [
    "#Error Functions: MSE, MAPE, Direction Accuracy, RMSE, R2-score\n",
    "def calculate_metrics(model_name, y_true, y_pred):\n",
    "    #Convert inputs to numpy arrays of floats\n",
    "    y_true = np.array(y_true).astype(float)\n",
    "    y_pred = np.array(y_pred).astype(float)\n",
    "\n",
    "    #Add small epsilon to avoid division by zero in MAPE calculation\n",
    "    epsilon = 1e-10\n",
    "    \n",
    "    #MSE (Mean Squared Error)\n",
    "    mse = mean_squared_error(y_true, y_pred)\n",
    "\n",
    "    #Mean Absolute Percentage Error\n",
    "    mape = mean_absolute_percentage_error(y_true, y_pred)\n",
    "\n",
    "    #Direction Accurancy\n",
    "    direction_true = np.sign(np.diff(y_true))\n",
    "    direction_pred = np.sign(np.diff(y_pred))\n",
    "    direction_accuracy = np.mean(direction_true == direction_pred) * 100\n",
    "\n",
    "    #RMSE (Root Mean Squared Error)\n",
    "    rmse = np.sqrt(mean_squared_error(y_true, y_pred))\n",
    "\n",
    "    #R2-score\n",
    "    r2 = r2_score(y_true, y_pred)\n",
    "\n",
    "    return { \n",
    "        'Model' : model_name,\n",
    "        'MSE' : mse,\n",
    "        'MAPE' : mape,\n",
    "        'Direction Accuracy' : direction_accuracy,\n",
    "        'RMSE' : rmse,\n",
    "        'R2-score' : r2\n",
    "    }"
   ]
  },
  {
   "cell_type": "code",
   "execution_count": null,
   "metadata": {},
   "outputs": [],
   "source": [
    "arima_metrics = calculate_metrics('ARIMA', np.exp(test_target), arima_forecast)\n",
    "arimax_metrics = calculate_metrics('ARIMAX', np.exp(test_target), arimax_forecast)\n",
    "sarimax_metrics = calculate_metrics('SARIMAX', np.exp(test_target), sarimax_forecast)\n",
    "\n",
    "for metrics in [arima_metrics, arimax_metrics, sarimax_metrics]:\n",
    "    print(f'\\n Metrics for {metrics['Model']}:')\n",
    "    for key, value in metrics.items():\n",
    "        if key != 'Model':\n",
    "            print(f'{key}: {value:.2f}')"
   ]
  },
  {
   "cell_type": "code",
   "execution_count": null,
   "metadata": {},
   "outputs": [],
   "source": [
    "#Plot Error Functions\n",
    "models = ['ARIMA', 'ARIMAX', 'SARIMAX']\n",
    "\n",
    "metrics_list = [arima_metrics, arimax_metrics, sarimax_metrics]\n",
    "\n",
    "aic_values = {\n",
    "    'ARIMA' : arima_results.aic,\n",
    "    'ARIMAX' : arimax_results.aic,\n",
    "    'SARIMAX' : sarimax_results.aic\n",
    "}\n",
    "\n",
    "aic = [aic_values[model] for model in models]\n",
    "\n",
    "#Create dictionary to store all metrics\n",
    "all_metrics = {\n",
    "    'MSE' : {},\n",
    "    'MAPE' : {},\n",
    "    'Direction Accuracy' : {},\n",
    "    'RMSE' : {},\n",
    "    'R2-score' : {},\n",
    "    'AIC' : aic_values\n",
    "}\n",
    "\n",
    "#Populate the all_metrics dictionary\n",
    "for metrics in metrics_list:\n",
    "    model = metrics['Model']\n",
    "    for key, value in metrics.items():\n",
    "        if key != 'Model':\n",
    "            all_metrics[key][model] = value\n",
    "\n",
    "#Create subplots\n",
    "fig, axs = plt.subplots(2, 3, figsize=(15, 10))\n",
    "fig.suptitle('Model Comparison Metrics', fontsize=16)\n",
    "\n",
    "axs = axs.flatten()\n",
    "\n",
    "# colors = ['deep', 'muted', 'pastel']\n",
    "\n",
    "for i, (metric, values) in enumerate(all_metrics.items()):\n",
    "    ax = axs[i]\n",
    "    metric_values = [values.get(model, np.nan) for model in models]\n",
    "    \n",
    "    bars = ax.bar(models, metric_values)\n",
    "    ax.set_ylabel(metric)\n",
    "    ax.set_title(metric)\n",
    "\n",
    "    for bar in bars:\n",
    "        height = bar.get_height()\n",
    "        if not np.isnan(height):\n",
    "            ax.text(bar.get_x() + bar.get_width()/2., height,\n",
    "                f'{height:.2f}', \n",
    "                ha='center', va='bottom', rotation=0)\n",
    "\n",
    "plt.tight_layout(rect=[0, 0.03, 1, 0.95])\n",
    "plt.show()"
   ]
  },
  {
   "cell_type": "code",
   "execution_count": 79,
   "metadata": {},
   "outputs": [
    {
     "data": {
      "image/png": "[encoded data removed]",
      "text/plain": [
       "<Figure size 1200x600 with 1 Axes>"
      ]
     },
     "metadata": {},
     "output_type": "display_data"
    }
   ],
   "source": [
    "#Plot the model forecasts\n",
    "plt.figure(figsize = (12, 6))\n",
    "plt.plot(train_target.index, np.exp(train_target), label='Train data')\n",
    "plt.plot(test_target.index, np.exp(test_target), label='Test data')\n",
    "plt.plot(test_target.index, arima_forecast, label='ARIMA Forecast')\n",
    "plt.plot(test_target.index, arimax_forecast, label='ARIMAX Forecast')\n",
    "plt.plot(test_target.index, sarimax_forecast, label='SARIMAX Forecast')\n",
    "\n",
    "plt.legend(loc='best')\n",
    "plt.title('VIX Forecast Models')\n",
    "plt.show()\n"
   ]
  },
  {
   "cell_type": "code",
   "execution_count": null,
   "metadata": {},
   "outputs": [],
   "source": []
  }
 ],
 "metadata": {
  "kernelspec": {
   "display_name": "base",
   "language": "python",
   "name": "python3"
  },
  "language_info": {
   "codemirror_mode": {
    "name": "ipython",
    "version": 3
   },
   "file_extension": ".py",
   "mimetype": "text/x-python",
   "name": "python",
   "nbconvert_exporter": "python",
   "pygments_lexer": "ipython3",
   "version": "3.12.4"
  }
 },
 "nbformat": 4,
 "nbformat_minor": 2
}
